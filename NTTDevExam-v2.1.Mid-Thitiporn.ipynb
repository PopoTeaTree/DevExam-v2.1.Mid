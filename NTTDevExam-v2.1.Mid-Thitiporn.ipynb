{
 "cells": [
  {
   "cell_type": "code",
   "execution_count": 1,
   "id": "c013d185",
   "metadata": {},
   "outputs": [
    {
     "name": "stdout",
     "output_type": "stream",
     "text": [
      "   Factory  PlanQty  ActualQty\n",
      "0     5001      110         54\n",
      "1     5005      101        200\n",
      "2     5012      172        150\n",
      "3     5042      110         94\n",
      "4     5046       79         92\n",
      "5     5113      116         84\n",
      "     Factory  Store  PlanQty  ActualQty\n",
      "0       5001   1127        2        NaN\n",
      "1       5001   1154        2        NaN\n",
      "2       5001   1164        2        NaN\n",
      "3       5001   1220        2        NaN\n",
      "4       5001   1224        2        NaN\n",
      "..       ...    ...      ...        ...\n",
      "143     5113   6577        6        NaN\n",
      "144     5113   6592        7        NaN\n",
      "145     5113   6599        7        NaN\n",
      "146     5113   6611        8        NaN\n",
      "147     5113   6638        7        NaN\n",
      "\n",
      "[148 rows x 4 columns]\n"
     ]
    }
   ],
   "source": [
    "import pandas as pd\n",
    "import numpy as np\n",
    "import math\n",
    "# read and import excel to dataframe\n",
    "dfFactory = pd.read_excel (r'NTTDevExam-v2.1.Mid-1.xlsx', sheet_name='FactoryPlan')\n",
    "dfStore = pd.read_excel (r'NTTDevExam-v2.1.Mid-1.xlsx', sheet_name='StorePlan')\n",
    "all_ActualQtyFactory = dfFactory.groupby('Factory')['ActualQty'].sum().sum()\n",
    "print (dfFactory)\n",
    "print (dfStore)"
   ]
  },
  {
   "cell_type": "code",
   "execution_count": 2,
   "id": "9cca911a",
   "metadata": {},
   "outputs": [
    {
     "data": {
      "text/plain": [
       "[5005, 5046]"
      ]
     },
     "execution_count": 2,
     "metadata": {},
     "output_type": "execute_result"
    }
   ],
   "source": [
    "# keep Foctory ID in array which has ActualQty than PlanQty\n",
    "ActualMorePlan = []\n",
    "for index, row in dfFactory.iterrows():\n",
    "    if(row['ActualQty']>=row['PlanQty']):\n",
    "        ActualMorePlan.append(row['Factory'])\n",
    "ActualMorePlan"
   ]
  },
  {
   "cell_type": "code",
   "execution_count": 3,
   "id": "20a6436d",
   "metadata": {},
   "outputs": [
    {
     "data": {
      "text/plain": [
       "{5001, 5012, 5042, 5113}"
      ]
     },
     "execution_count": 3,
     "metadata": {},
     "output_type": "execute_result"
    }
   ],
   "source": [
    "# array of Factory Id which is not enough ActualQty for PlanQty\n",
    "ActualLessPlan = []\n",
    "ActualLessPlan = dfFactory[\"Factory\"].tolist()\n",
    "# not intersact (use not intersact ActualLessPlan)\n",
    "ActualLessPlan = set(ActualLessPlan) ^ set(ActualMorePlan)\n",
    "ActualLessPlan"
   ]
  },
  {
   "cell_type": "code",
   "execution_count": 4,
   "id": "7a3f845d",
   "metadata": {},
   "outputs": [
    {
     "name": "stdout",
     "output_type": "stream",
     "text": [
      "   Factory  PlanQty  ActualQty\n",
      "0     5001      110         54\n",
      "1     5005      101         99\n",
      "2     5012      172        150\n",
      "3     5042      110         94\n",
      "4     5046       79         13\n",
      "5     5113      116         84\n",
      "<pandas.core.groupby.generic.SeriesGroupBy object at 0x1281a7850>\n"
     ]
    }
   ],
   "source": [
    "# loop for setting the ActualQty in store dataframe, which only the row having enough PlanQty following ActualMorePlan array\n",
    "for foctoryId in ActualMorePlan:\n",
    "#     set ActualQty in store\n",
    "    dfStore.loc[dfStore['Factory'] == foctoryId, 'ActualQty'] = dfStore['PlanQty']\n",
    "#     update actualQty \n",
    "    dfFactory.loc[dfFactory['Factory'] == foctoryId, 'ActualQty'] = dfFactory['ActualQty']-dfFactory['PlanQty']\n",
    "print (dfFactory)\n",
    "print (dfStore.groupby('Factory')['ActualQty'])"
   ]
  },
  {
   "cell_type": "code",
   "execution_count": 5,
   "id": "ecb4a406",
   "metadata": {},
   "outputs": [
    {
     "data": {
      "text/html": [
       "<div>\n",
       "<style scoped>\n",
       "    .dataframe tbody tr th:only-of-type {\n",
       "        vertical-align: middle;\n",
       "    }\n",
       "\n",
       "    .dataframe tbody tr th {\n",
       "        vertical-align: top;\n",
       "    }\n",
       "\n",
       "    .dataframe thead th {\n",
       "        text-align: right;\n",
       "    }\n",
       "</style>\n",
       "<table border=\"1\" class=\"dataframe\">\n",
       "  <thead>\n",
       "    <tr style=\"text-align: right;\">\n",
       "      <th></th>\n",
       "      <th>Factory</th>\n",
       "      <th>PlanQty</th>\n",
       "      <th>ActualQty</th>\n",
       "      <th>Weight</th>\n",
       "    </tr>\n",
       "  </thead>\n",
       "  <tbody>\n",
       "    <tr>\n",
       "      <th>0</th>\n",
       "      <td>5001</td>\n",
       "      <td>110</td>\n",
       "      <td>54</td>\n",
       "      <td>0.490909</td>\n",
       "    </tr>\n",
       "    <tr>\n",
       "      <th>1</th>\n",
       "      <td>5005</td>\n",
       "      <td>101</td>\n",
       "      <td>99</td>\n",
       "      <td>0.980198</td>\n",
       "    </tr>\n",
       "    <tr>\n",
       "      <th>2</th>\n",
       "      <td>5012</td>\n",
       "      <td>172</td>\n",
       "      <td>150</td>\n",
       "      <td>0.872093</td>\n",
       "    </tr>\n",
       "    <tr>\n",
       "      <th>3</th>\n",
       "      <td>5042</td>\n",
       "      <td>110</td>\n",
       "      <td>94</td>\n",
       "      <td>0.854545</td>\n",
       "    </tr>\n",
       "    <tr>\n",
       "      <th>4</th>\n",
       "      <td>5046</td>\n",
       "      <td>79</td>\n",
       "      <td>13</td>\n",
       "      <td>0.164557</td>\n",
       "    </tr>\n",
       "    <tr>\n",
       "      <th>5</th>\n",
       "      <td>5113</td>\n",
       "      <td>116</td>\n",
       "      <td>84</td>\n",
       "      <td>0.724138</td>\n",
       "    </tr>\n",
       "  </tbody>\n",
       "</table>\n",
       "</div>"
      ],
      "text/plain": [
       "   Factory  PlanQty  ActualQty    Weight\n",
       "0     5001      110         54  0.490909\n",
       "1     5005      101         99  0.980198\n",
       "2     5012      172        150  0.872093\n",
       "3     5042      110         94  0.854545\n",
       "4     5046       79         13  0.164557\n",
       "5     5113      116         84  0.724138"
      ]
     },
     "execution_count": 5,
     "metadata": {},
     "output_type": "execute_result"
    }
   ],
   "source": [
    "# set the demand weight for each Factory\n",
    "dfFactory['Weight']=dfFactory['ActualQty']/dfFactory['PlanQty']\n",
    "dfFactory"
   ]
  },
  {
   "cell_type": "code",
   "execution_count": 6,
   "id": "1494a471",
   "metadata": {},
   "outputs": [
    {
     "data": {
      "text/html": [
       "<div>\n",
       "<style scoped>\n",
       "    .dataframe tbody tr th:only-of-type {\n",
       "        vertical-align: middle;\n",
       "    }\n",
       "\n",
       "    .dataframe tbody tr th {\n",
       "        vertical-align: top;\n",
       "    }\n",
       "\n",
       "    .dataframe thead th {\n",
       "        text-align: right;\n",
       "    }\n",
       "</style>\n",
       "<table border=\"1\" class=\"dataframe\">\n",
       "  <thead>\n",
       "    <tr style=\"text-align: right;\">\n",
       "      <th></th>\n",
       "      <th>Factory</th>\n",
       "      <th>PlanQty</th>\n",
       "      <th>ActualQty</th>\n",
       "      <th>Weight</th>\n",
       "    </tr>\n",
       "  </thead>\n",
       "  <tbody>\n",
       "    <tr>\n",
       "      <th>0</th>\n",
       "      <td>5005</td>\n",
       "      <td>101</td>\n",
       "      <td>99</td>\n",
       "      <td>0.980198</td>\n",
       "    </tr>\n",
       "    <tr>\n",
       "      <th>1</th>\n",
       "      <td>5012</td>\n",
       "      <td>172</td>\n",
       "      <td>150</td>\n",
       "      <td>0.872093</td>\n",
       "    </tr>\n",
       "    <tr>\n",
       "      <th>2</th>\n",
       "      <td>5042</td>\n",
       "      <td>110</td>\n",
       "      <td>94</td>\n",
       "      <td>0.854545</td>\n",
       "    </tr>\n",
       "    <tr>\n",
       "      <th>3</th>\n",
       "      <td>5113</td>\n",
       "      <td>116</td>\n",
       "      <td>84</td>\n",
       "      <td>0.724138</td>\n",
       "    </tr>\n",
       "    <tr>\n",
       "      <th>4</th>\n",
       "      <td>5001</td>\n",
       "      <td>110</td>\n",
       "      <td>54</td>\n",
       "      <td>0.490909</td>\n",
       "    </tr>\n",
       "    <tr>\n",
       "      <th>5</th>\n",
       "      <td>5046</td>\n",
       "      <td>79</td>\n",
       "      <td>13</td>\n",
       "      <td>0.164557</td>\n",
       "    </tr>\n",
       "  </tbody>\n",
       "</table>\n",
       "</div>"
      ],
      "text/plain": [
       "   Factory  PlanQty  ActualQty    Weight\n",
       "0     5005      101         99  0.980198\n",
       "1     5012      172        150  0.872093\n",
       "2     5042      110         94  0.854545\n",
       "3     5113      116         84  0.724138\n",
       "4     5001      110         54  0.490909\n",
       "5     5046       79         13  0.164557"
      ]
     },
     "execution_count": 6,
     "metadata": {},
     "output_type": "execute_result"
    }
   ],
   "source": [
    "# sort demand weight from high to low (The high weight, the high priority)\n",
    "dfFactory = dfFactory.sort_values(by=['Weight'], ascending=False)\n",
    "dfFactory.index = range(len(dfFactory))\n",
    "dfFactory"
   ]
  },
  {
   "cell_type": "code",
   "execution_count": 7,
   "id": "8cd99c68",
   "metadata": {},
   "outputs": [],
   "source": [
    "# function for set ActualQty to link with PlanQty by adding from others Factory, and update the leftovers \n",
    "# of each Factory\n",
    "def updateActualQtyForCeil(dfStore,dfFactory,ActualMorePlan,store):\n",
    "    add_next = -1\n",
    "#     loop for setting ActualQty of Factory which is enough for PlanQty\n",
    "    for foctoryMoreId in ActualMorePlan:\n",
    "#         check leftover of Factory ActualQty does not destitute \n",
    "        if dfFactory.loc[dfFactory['Factory'] == foctoryMoreId,'ActualQty'].iat[0] == 0:\n",
    "                continue\n",
    "#         check is it have the preavious value\n",
    "        if (add_next > 0):\n",
    "            wantMore = add_next\n",
    "        else:\n",
    "            wantMore = leftoversQty\n",
    "#         get leftover of Factory ActualQty\n",
    "        sumActualQty_More_Factory = dfFactory.loc[dfFactory['Factory'] == foctoryMoreId,'ActualQty'].iat[0]\n",
    "#         check leftover of Factory ActualQty is it enough for the requirement \n",
    "        if(sumActualQty_More_Factory<wantMore):\n",
    "#             the reqiurment is not enough only this ActualQty of Factory\n",
    "            add_next = wantMore - sumActualQty_More_Factory\n",
    "            wantMore = sumActualQty_More_Factory\n",
    "            dfFactory.loc[dfFactory['Factory'] == foctoryMoreId, 'ActualQty'] = 0\n",
    "        else:\n",
    "            add_next = -1\n",
    "            dfFactory.loc[dfFactory['Factory'] == foctoryMoreId, 'ActualQty'] = sumActualQty_More_Factory - wantMore\n",
    "#         add new special requirment to the dataframe\n",
    "        new_row = {'Factory':foctoryMoreId,'Store':store,'PlanQty': 0,'ActualQty':wantMore}\n",
    "        dfStore = dfStore.append(new_row,ignore_index=True)\n",
    "        break\n",
    "    return dfStore, dfFactory"
   ]
  },
  {
   "cell_type": "code",
   "execution_count": 8,
   "id": "fad2e301",
   "metadata": {},
   "outputs": [],
   "source": [
    "# loop for set the ActualQty of Factory which is not enough for PlanQty.\n",
    "# By using the demand weight and ceiling value. From the ceiling value, it makes the sum of ActualQty\n",
    "# more than the real ActualQty \n",
    "for index,storeRow in dfStore.iterrows():\n",
    "#     Check the factory is in the array of ActualQty less than PlanQty\n",
    "    if(storeRow['Factory'] in ActualLessPlan):\n",
    "#         intit the current factory id\n",
    "        foctoryId = storeRow['Factory']\n",
    "        weight = dfFactory.loc[dfFactory['Factory'] == foctoryId,'Weight'].iat[0]\n",
    "#        calculate ActualQty with weight and cailling \n",
    "        realActualQty = math.ceil(storeRow['PlanQty'] * weight)\n",
    "#        get the sum of the ActualQty of current foctory in current time\n",
    "        sumActualQty = dfStore.groupby('Factory')['ActualQty'].sum().get(key =foctoryId)\n",
    "#        get the leftover of Factory ActualQty\n",
    "        sumActualQty_Foctory = dfFactory.loc[dfFactory['Factory'] == foctoryId, 'ActualQty'].iat[0]\n",
    "#        check the leftover is enough for ActualQty\n",
    "        if( (realActualQty+sumActualQty) <= sumActualQty_Foctory ):\n",
    "            dfStore.at[index,'ActualQty'] = realActualQty\n",
    "        else:\n",
    "            leftoversQty = (sumActualQty+realActualQty)-sumActualQty_Foctory\n",
    "            dfStore.at[index,'ActualQty'] = sumActualQty_Foctory-sumActualQty\n",
    "#             call function to update the store dataframe\n",
    "            dfResult = updateActualQtyForCeil(dfStore,dfFactory,ActualMorePlan,storeRow['Store'])\n",
    "            dfStore = dfResult[0]\n",
    "            dfFactory = dfResult[1]\n",
    "    else:\n",
    "        continue"
   ]
  },
  {
   "cell_type": "code",
   "execution_count": 9,
   "id": "d0071c40",
   "metadata": {},
   "outputs": [
    {
     "data": {
      "text/plain": [
       "Factory\n",
       "5001.0     54.0\n",
       "5005.0    138.0\n",
       "5012.0    150.0\n",
       "5042.0     94.0\n",
       "5046.0     79.0\n",
       "5113.0     84.0\n",
       "Name: ActualQty, dtype: float64"
      ]
     },
     "execution_count": 9,
     "metadata": {},
     "output_type": "execute_result"
    }
   ],
   "source": [
    "dfStore.groupby('Factory')['ActualQty'].sum()"
   ]
  },
  {
   "cell_type": "code",
   "execution_count": 10,
   "id": "4ccace62",
   "metadata": {},
   "outputs": [
    {
     "data": {
      "text/html": [
       "<div>\n",
       "<style scoped>\n",
       "    .dataframe tbody tr th:only-of-type {\n",
       "        vertical-align: middle;\n",
       "    }\n",
       "\n",
       "    .dataframe tbody tr th {\n",
       "        vertical-align: top;\n",
       "    }\n",
       "\n",
       "    .dataframe thead th {\n",
       "        text-align: right;\n",
       "    }\n",
       "</style>\n",
       "<table border=\"1\" class=\"dataframe\">\n",
       "  <thead>\n",
       "    <tr style=\"text-align: right;\">\n",
       "      <th></th>\n",
       "      <th>Factory</th>\n",
       "      <th>Store</th>\n",
       "      <th>PlanQty</th>\n",
       "      <th>ActualQty</th>\n",
       "      <th>CompleteOrder%</th>\n",
       "    </tr>\n",
       "  </thead>\n",
       "  <tbody>\n",
       "    <tr>\n",
       "      <th>0</th>\n",
       "      <td>5001.0</td>\n",
       "      <td>1127.0</td>\n",
       "      <td>2.0</td>\n",
       "      <td>1.0</td>\n",
       "      <td>50.0</td>\n",
       "    </tr>\n",
       "    <tr>\n",
       "      <th>1</th>\n",
       "      <td>5001.0</td>\n",
       "      <td>1154.0</td>\n",
       "      <td>2.0</td>\n",
       "      <td>1.0</td>\n",
       "      <td>50.0</td>\n",
       "    </tr>\n",
       "    <tr>\n",
       "      <th>2</th>\n",
       "      <td>5001.0</td>\n",
       "      <td>1164.0</td>\n",
       "      <td>2.0</td>\n",
       "      <td>1.0</td>\n",
       "      <td>50.0</td>\n",
       "    </tr>\n",
       "    <tr>\n",
       "      <th>3</th>\n",
       "      <td>5001.0</td>\n",
       "      <td>1220.0</td>\n",
       "      <td>2.0</td>\n",
       "      <td>1.0</td>\n",
       "      <td>50.0</td>\n",
       "    </tr>\n",
       "    <tr>\n",
       "      <th>4</th>\n",
       "      <td>5001.0</td>\n",
       "      <td>1224.0</td>\n",
       "      <td>2.0</td>\n",
       "      <td>1.0</td>\n",
       "      <td>50.0</td>\n",
       "    </tr>\n",
       "    <tr>\n",
       "      <th>...</th>\n",
       "      <td>...</td>\n",
       "      <td>...</td>\n",
       "      <td>...</td>\n",
       "      <td>...</td>\n",
       "      <td>...</td>\n",
       "    </tr>\n",
       "    <tr>\n",
       "      <th>152</th>\n",
       "      <td>5005.0</td>\n",
       "      <td>6457.0</td>\n",
       "      <td>0.0</td>\n",
       "      <td>5.0</td>\n",
       "      <td>inf</td>\n",
       "    </tr>\n",
       "    <tr>\n",
       "      <th>153</th>\n",
       "      <td>5005.0</td>\n",
       "      <td>6498.0</td>\n",
       "      <td>0.0</td>\n",
       "      <td>3.0</td>\n",
       "      <td>inf</td>\n",
       "    </tr>\n",
       "    <tr>\n",
       "      <th>154</th>\n",
       "      <td>5005.0</td>\n",
       "      <td>6551.0</td>\n",
       "      <td>0.0</td>\n",
       "      <td>6.0</td>\n",
       "      <td>inf</td>\n",
       "    </tr>\n",
       "    <tr>\n",
       "      <th>155</th>\n",
       "      <td>5005.0</td>\n",
       "      <td>6611.0</td>\n",
       "      <td>0.0</td>\n",
       "      <td>3.0</td>\n",
       "      <td>inf</td>\n",
       "    </tr>\n",
       "    <tr>\n",
       "      <th>156</th>\n",
       "      <td>5005.0</td>\n",
       "      <td>6638.0</td>\n",
       "      <td>0.0</td>\n",
       "      <td>6.0</td>\n",
       "      <td>inf</td>\n",
       "    </tr>\n",
       "  </tbody>\n",
       "</table>\n",
       "<p>157 rows × 5 columns</p>\n",
       "</div>"
      ],
      "text/plain": [
       "     Factory   Store  PlanQty  ActualQty  CompleteOrder%\n",
       "0     5001.0  1127.0      2.0        1.0            50.0\n",
       "1     5001.0  1154.0      2.0        1.0            50.0\n",
       "2     5001.0  1164.0      2.0        1.0            50.0\n",
       "3     5001.0  1220.0      2.0        1.0            50.0\n",
       "4     5001.0  1224.0      2.0        1.0            50.0\n",
       "..       ...     ...      ...        ...             ...\n",
       "152   5005.0  6457.0      0.0        5.0             inf\n",
       "153   5005.0  6498.0      0.0        3.0             inf\n",
       "154   5005.0  6551.0      0.0        6.0             inf\n",
       "155   5005.0  6611.0      0.0        3.0             inf\n",
       "156   5005.0  6638.0      0.0        6.0             inf\n",
       "\n",
       "[157 rows x 5 columns]"
      ]
     },
     "execution_count": 10,
     "metadata": {},
     "output_type": "execute_result"
    }
   ],
   "source": [
    "# set the percent of complete order between PlanQty and ActualQty\n",
    "dfStore['CompleteOrder%']=(dfStore['ActualQty']*100)/dfStore['PlanQty']\n",
    "dfStore"
   ]
  },
  {
   "cell_type": "code",
   "execution_count": 11,
   "id": "a30a5ab7",
   "metadata": {},
   "outputs": [
    {
     "data": {
      "text/html": [
       "<div>\n",
       "<style scoped>\n",
       "    .dataframe tbody tr th:only-of-type {\n",
       "        vertical-align: middle;\n",
       "    }\n",
       "\n",
       "    .dataframe tbody tr th {\n",
       "        vertical-align: top;\n",
       "    }\n",
       "\n",
       "    .dataframe thead th {\n",
       "        text-align: right;\n",
       "    }\n",
       "</style>\n",
       "<table border=\"1\" class=\"dataframe\">\n",
       "  <thead>\n",
       "    <tr style=\"text-align: right;\">\n",
       "      <th></th>\n",
       "      <th>Factory</th>\n",
       "      <th>PlanQty</th>\n",
       "      <th>ActualQty</th>\n",
       "      <th>Weight</th>\n",
       "    </tr>\n",
       "  </thead>\n",
       "  <tbody>\n",
       "    <tr>\n",
       "      <th>0</th>\n",
       "      <td>5005</td>\n",
       "      <td>101</td>\n",
       "      <td>62</td>\n",
       "      <td>0.980198</td>\n",
       "    </tr>\n",
       "    <tr>\n",
       "      <th>1</th>\n",
       "      <td>5012</td>\n",
       "      <td>172</td>\n",
       "      <td>150</td>\n",
       "      <td>0.872093</td>\n",
       "    </tr>\n",
       "    <tr>\n",
       "      <th>2</th>\n",
       "      <td>5042</td>\n",
       "      <td>110</td>\n",
       "      <td>94</td>\n",
       "      <td>0.854545</td>\n",
       "    </tr>\n",
       "    <tr>\n",
       "      <th>3</th>\n",
       "      <td>5113</td>\n",
       "      <td>116</td>\n",
       "      <td>84</td>\n",
       "      <td>0.724138</td>\n",
       "    </tr>\n",
       "    <tr>\n",
       "      <th>4</th>\n",
       "      <td>5001</td>\n",
       "      <td>110</td>\n",
       "      <td>54</td>\n",
       "      <td>0.490909</td>\n",
       "    </tr>\n",
       "    <tr>\n",
       "      <th>5</th>\n",
       "      <td>5046</td>\n",
       "      <td>79</td>\n",
       "      <td>13</td>\n",
       "      <td>0.164557</td>\n",
       "    </tr>\n",
       "  </tbody>\n",
       "</table>\n",
       "</div>"
      ],
      "text/plain": [
       "   Factory  PlanQty  ActualQty    Weight\n",
       "0     5005      101         62  0.980198\n",
       "1     5012      172        150  0.872093\n",
       "2     5042      110         94  0.854545\n",
       "3     5113      116         84  0.724138\n",
       "4     5001      110         54  0.490909\n",
       "5     5046       79         13  0.164557"
      ]
     },
     "execution_count": 11,
     "metadata": {},
     "output_type": "execute_result"
    }
   ],
   "source": [
    "dfFactory"
   ]
  },
  {
   "cell_type": "code",
   "execution_count": 12,
   "id": "fd2426de",
   "metadata": {},
   "outputs": [],
   "source": [
    "# update the ActualQty of Factory which is not enough for PlanQty from leftovers. \n",
    "# This function updates the ActualQty of Factory which is not enough for PlanQty and\n",
    "# ordering from complete order and demand wieght.\n",
    "def updateActualQtyForleftovers(dfStore,dfFactory,ActualMorePlan,ActualLessPlan):\n",
    "    print (\"Case 2\")\n",
    "#     sort dataframe\n",
    "    dfStore = dfStore.sort_values(by=['CompleteOrder%'], ascending=True)\n",
    "    dfFactory = dfFactory.sort_values(by=['Weight'], ascending=False)\n",
    "    dfFactory.index = range(len(dfFactory))\n",
    "#     loop the store dataframe row \n",
    "    for index,storeRow in dfStore.iterrows():\n",
    "        if(storeRow['Factory'] in ActualLessPlan):\n",
    "            wantMore = storeRow['PlanQty'] - storeRow['ActualQty']\n",
    "            storeId = storeRow['Store']\n",
    "#             skip the uneeded ActualQty\n",
    "            if(wantMore == 0): continue\n",
    "            add_next = -1;\n",
    "#             set and update the ActualQty of Factory which is enough for PlanQty\n",
    "            for foctoryIdMore in ActualMorePlan:\n",
    "                leftovers = dfFactory.loc[dfFactory['Factory'] == foctoryIdMore, 'ActualQty'].iat[0]\n",
    "#             Check is there are leftovers\n",
    "                if(leftovers == 0 and foctoryIdMore !=ActualMorePlan[-1]):\n",
    "                    continue\n",
    "                elif(leftovers == 0 and foctoryIdMore == ActualMorePlan[-1]):\n",
    "                    return dfStore\n",
    "                else:\n",
    "#                     check there is not enough ActualQty from the preavious Factory\n",
    "                    if(add_next>0):\n",
    "                        wantMore = add_next\n",
    "#                     check the leftover is engound for the current and update the leftovers\n",
    "                    if (leftovers >= wantMore):\n",
    "                        dfFactory.loc[dfFactory['Factory'] == foctoryIdMore, 'ActualQty'] = leftovers - wantMore\n",
    "                        add_next = -1\n",
    "                    elif (leftovers < wantMore):\n",
    "                        dfFactory.loc[dfFactory['Factory'] == foctoryIdMore, 'ActualQty'] = 0\n",
    "                        wantMore = leftovers\n",
    "                        add_next = wantMore - leftovers\n",
    "#                     update or set the ActualQt\n",
    "                    oldSet_ActualQty = dfStore.loc[(dfStore['Factory'] == foctoryIdMore) & (dfStore['Store'] == storeId), 'ActualQty']\n",
    "                    if(len(oldSet_ActualQty)== 0): \n",
    "                        new_row = {'Factory':foctoryIdMore,'Store':storeId,'PlanQty': 0,'ActualQty':wantMore}\n",
    "                        dfStore = dfStore.append(new_row, ignore_index=True)\n",
    "                    else :\n",
    "                        wantMore = wantMore + oldSet_ActualQty\n",
    "                        dfStore.loc[(dfStore['Factory'] == foctoryIdMore)& (dfStore['Store'] == storeId), 'ActualQty'] = wantMore\n",
    "                    break\n",
    "        else:\n",
    "            continue"
   ]
  },
  {
   "cell_type": "code",
   "execution_count": 13,
   "id": "7f45446e",
   "metadata": {},
   "outputs": [],
   "source": [
    "# remove function which to update the store dataframe, after ceilling makes the ActualQty is more than the real one.\n",
    "def remove(dfStore,dfFactory,ActualMorePlan,ActualLessPlan):\n",
    "    print (\"Case 1\")\n",
    "#     sort the complete ordering \n",
    "    dfFactory = dfFactory.sort_values(by=['Weight'], ascending=True)\n",
    "    dfFactory.index = range(len(dfFactory))\n",
    "    leftovers_ActualQty = dfStore.groupby('Factory')['ActualQty'].sum().sum()-all_ActualQtyFactory\n",
    "#     loop for remove the data that is over \n",
    "    for index,storeRow in dfStore.iterrows():\n",
    "        if(storeRow['Factory'] in ActualMorePlan):\n",
    "            leftovers_ActualQty = leftovers_ActualQty - storeRow['ActualQty']\n",
    "            dfFactory.drop([index], inplace = True)\n",
    "        if(leftovers_ActualQty<=0):\n",
    "            break\n",
    "    return dfStore"
   ]
  },
  {
   "cell_type": "code",
   "execution_count": 14,
   "id": "3575f677",
   "metadata": {},
   "outputs": [
    {
     "name": "stdout",
     "output_type": "stream",
     "text": [
      "Factory\n",
      "5001     54\n",
      "5005     62\n",
      "5012    150\n",
      "5042     94\n",
      "5046     13\n",
      "5113     84\n",
      "Name: ActualQty, dtype: int64\n",
      "Factory\n",
      "5001.0     54.0\n",
      "5005.0    138.0\n",
      "5012.0    150.0\n",
      "5042.0     94.0\n",
      "5046.0     79.0\n",
      "5113.0     84.0\n",
      "Name: ActualQty, dtype: float64\n"
     ]
    }
   ],
   "source": [
    "print (dfFactory.groupby('Factory')['ActualQty'].sum())\n",
    "print (dfStore.groupby('Factory')['ActualQty'].sum())"
   ]
  },
  {
   "cell_type": "code",
   "execution_count": 15,
   "id": "1cde13c7",
   "metadata": {},
   "outputs": [
    {
     "name": "stdout",
     "output_type": "stream",
     "text": [
      "Factory\n",
      "5001     54\n",
      "5005     62\n",
      "5012    150\n",
      "5042     94\n",
      "5046     13\n",
      "5113     84\n",
      "Name: ActualQty, dtype: int64\n",
      "Factory\n",
      "5001.0     54.0\n",
      "5005.0    138.0\n",
      "5012.0    150.0\n",
      "5042.0     94.0\n",
      "5046.0     79.0\n",
      "5113.0     84.0\n",
      "Name: ActualQty, dtype: float64\n"
     ]
    }
   ],
   "source": [
    "print (dfFactory.groupby('Factory')['ActualQty'].sum())\n",
    "print (dfStore.groupby('Factory')['ActualQty'].sum())"
   ]
  },
  {
   "cell_type": "code",
   "execution_count": 16,
   "id": "85b24f44",
   "metadata": {},
   "outputs": [
    {
     "data": {
      "text/plain": [
       "75.0"
      ]
     },
     "execution_count": 16,
     "metadata": {},
     "output_type": "execute_result"
    }
   ],
   "source": [
    "leftovers_ActualQty=all_ActualQtyFactory-dfStore.groupby('Factory')['ActualQty'].sum().sum()\n",
    "leftovers_ActualQty"
   ]
  },
  {
   "cell_type": "code",
   "execution_count": 17,
   "id": "cba7628a",
   "metadata": {},
   "outputs": [
    {
     "name": "stdout",
     "output_type": "stream",
     "text": [
      "Case 2\n"
     ]
    }
   ],
   "source": [
    "# last updating the ActualQty\n",
    "# 1. the sum of ActualQty less than the real one\n",
    "# 2. the sum of ActualQty more than the real one\n",
    "# 3. complete ActualQty\n",
    "# 4. Error\n",
    "if leftovers_ActualQty<0:\n",
    "    dfStore = remove(dfStore,dfFactory,ActualMorePlan,ActualLessPlan)\n",
    "elif leftovers_ActualQty>0:\n",
    "    dfStore = updateActualQtyForleftovers(dfStore,dfFactory,ActualMorePlan,ActualLessPlan)\n",
    "elif leftovers_ActualQty>0:\n",
    "    print (\"Complete - manage store (Left over)\")\n",
    "else:\n",
    "    print (\"Error Sort data\")"
   ]
  },
  {
   "cell_type": "code",
   "execution_count": 18,
   "id": "2e943b1d",
   "metadata": {},
   "outputs": [
    {
     "data": {
      "text/plain": [
       "Factory\n",
       "5001.0     54.0\n",
       "5005.0    200.0\n",
       "5012.0    150.0\n",
       "5042.0     94.0\n",
       "5046.0     92.0\n",
       "5113.0     84.0\n",
       "Name: ActualQty, dtype: float64"
      ]
     },
     "execution_count": 18,
     "metadata": {},
     "output_type": "execute_result"
    }
   ],
   "source": [
    "dfStore.groupby('Factory')['ActualQty'].sum()"
   ]
  },
  {
   "cell_type": "code",
   "execution_count": 19,
   "id": "47724609",
   "metadata": {},
   "outputs": [],
   "source": [
    "dfStore = dfStore.drop('CompleteOrder%', axis=1)"
   ]
  },
  {
   "cell_type": "code",
   "execution_count": 20,
   "id": "6b1933f5",
   "metadata": {},
   "outputs": [],
   "source": [
    "# !pip install openpyxl"
   ]
  },
  {
   "cell_type": "code",
   "execution_count": 21,
   "id": "fee7551a",
   "metadata": {},
   "outputs": [],
   "source": [
    "# export result of the store dataframe\n",
    "# dfStore.to_excel(r'Path where the exported excel file will be stored\\result_store.xlsx',index = False)\n",
    "dfStore.to_excel(r'result_NTTDevExam-v2.1.Mid.xlsx',index = False)"
   ]
  }
 ],
 "metadata": {
  "kernelspec": {
   "display_name": "Python 3 (ipykernel)",
   "language": "python",
   "name": "python3"
  },
  "language_info": {
   "codemirror_mode": {
    "name": "ipython",
    "version": 3
   },
   "file_extension": ".py",
   "mimetype": "text/x-python",
   "name": "python",
   "nbconvert_exporter": "python",
   "pygments_lexer": "ipython3",
   "version": "3.8.2"
  }
 },
 "nbformat": 4,
 "nbformat_minor": 5
}
